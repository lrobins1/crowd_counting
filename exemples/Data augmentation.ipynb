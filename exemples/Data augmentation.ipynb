{
  "nbformat": 4,
  "nbformat_minor": 0,
  "metadata": {
    "colab": {
      "name": "Data_augment_lib.ipynb",
      "provenance": [],
      "collapsed_sections": []
    },
    "kernelspec": {
      "name": "python3",
      "display_name": "Python 3"
    },
    "language_info": {
      "name": "python"
    }
  },
  "cells": [
    {
      "cell_type": "markdown",
      "source": [
        "#Imports"
      ],
      "metadata": {
        "id": "wWoEd3ZC-TkN"
      }
    },
    {
      "cell_type": "code",
      "execution_count": 1,
      "metadata": {
        "colab": {
          "base_uri": "https://localhost:8080/"
        },
        "id": "IzFudo92Qw5R",
        "outputId": "639e2ab7-ab8f-48e3-d6b8-0c11f9a8b8b8"
      },
      "outputs": [
        {
          "output_type": "stream",
          "name": "stdout",
          "text": [
            "Mounted at /content/gdrive\n"
          ]
        }
      ],
      "source": [
        "from google.colab import drive\n",
        "drive.mount('/content/gdrive')\n"
      ]
    },
    {
      "cell_type": "code",
      "source": [
        "!pip install git+https://github.com/lrobins1/crowd_counting.git"
      ],
      "metadata": {
        "id": "4yWHPnLND94e",
        "colab": {
          "base_uri": "https://localhost:8080/"
        },
        "outputId": "b7b1242d-b216-4cac-c758-db3b1e8229d6"
      },
      "execution_count": 2,
      "outputs": [
        {
          "output_type": "stream",
          "name": "stdout",
          "text": [
            "Installing collected packages: tf-estimator-nightly, Crowd-counting\n",
            "Successfully installed Crowd-counting-0.6 tf-estimator-nightly-2.8.0.dev2021122109\n"
          ]
        }
      ]
    },
    {
      "cell_type": "code",
      "source": [
        "from Crowd_counting.augmentation import *\n",
        "from Crowd_counting.model import visualize"
      ],
      "metadata": {
        "id": "9n7aLuc2R3P_"
      },
      "execution_count": 3,
      "outputs": []
    },
    {
      "cell_type": "markdown",
      "source": [
        "#Paths"
      ],
      "metadata": {
        "id": "9-_hSmAT-Wq2"
      }
    },
    {
      "cell_type": "code",
      "source": [
        "img_path = '/content/gdrive/MyDrive/TFE_crowd_counting/Dataset/Basic datas/images/Test'"
      ],
      "metadata": {
        "id": "DO5uFQ829jxr"
      },
      "execution_count": 4,
      "outputs": []
    },
    {
      "cell_type": "markdown",
      "source": [
        "#Data augmetation"
      ],
      "metadata": {
        "id": "jz4CeYt9-6JN"
      }
    },
    {
      "cell_type": "code",
      "source": [
        "img_paths,GT_paths = dir_to_list(img_path,img_format ='png')\n",
        "full_augment(img_paths,GT_paths,'png')"
      ],
      "metadata": {
        "id": "OzxiIxMU-B5e"
      },
      "execution_count": 5,
      "outputs": []
    },
    {
      "cell_type": "markdown",
      "source": [
        "#Visualiation"
      ],
      "metadata": {
        "id": "IVVtH6P6-8Er"
      }
    },
    {
      "cell_type": "code",
      "source": [
        "img_paths,GT_paths = dir_to_list(img_path,img_format ='png')\n",
        "for i in range(10):\n",
        "  visualize(img_paths[i], figsize = (10,10))"
      ],
      "metadata": {
        "id": "XDrxQ6Nz9hJM"
      },
      "execution_count": null,
      "outputs": []
    }
  ]
}