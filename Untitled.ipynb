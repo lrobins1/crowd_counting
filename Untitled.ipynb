{
 "cells": [
  {
   "cell_type": "code",
   "execution_count": 2,
   "metadata": {},
   "outputs": [
    {
     "name": "stdout",
     "output_type": "stream",
     "text": [
      "running sdist\n",
      "running egg_info\n",
      "creating Crowd_counting.egg-info\n",
      "writing Crowd_counting.egg-info\\PKG-INFO\n",
      "writing dependency_links to Crowd_counting.egg-info\\dependency_links.txt\n",
      "writing requirements to Crowd_counting.egg-info\\requires.txt\n",
      "writing top-level names to Crowd_counting.egg-info\\top_level.txt\n",
      "writing manifest file 'Crowd_counting.egg-info\\SOURCES.txt'\n",
      "reading manifest file 'Crowd_counting.egg-info\\SOURCES.txt'\n",
      "writing manifest file 'Crowd_counting.egg-info\\SOURCES.txt'\n",
      "running check\n",
      "creating Crowd-counting-0.1\n",
      "creating Crowd-counting-0.1\\Crowd-counting\n",
      "creating Crowd-counting-0.1\\Crowd_counting.egg-info\n",
      "copying files to Crowd-counting-0.1...\n",
      "copying README.md -> Crowd-counting-0.1\n",
      "copying setup.py -> Crowd-counting-0.1\n",
      "copying Crowd-counting\\__init__.py -> Crowd-counting-0.1\\Crowd-counting\n",
      "copying Crowd-counting\\dataset.py -> Crowd-counting-0.1\\Crowd-counting\n",
      "copying Crowd-counting\\image.py -> Crowd-counting-0.1\\Crowd-counting\n",
      "copying Crowd-counting\\model.py -> Crowd-counting-0.1\\Crowd-counting\n",
      "copying Crowd-counting\\train.py -> Crowd-counting-0.1\\Crowd-counting\n",
      "copying Crowd-counting\\utils.py -> Crowd-counting-0.1\\Crowd-counting\n",
      "copying Crowd_counting.egg-info\\PKG-INFO -> Crowd-counting-0.1\\Crowd_counting.egg-info\n",
      "copying Crowd_counting.egg-info\\SOURCES.txt -> Crowd-counting-0.1\\Crowd_counting.egg-info\n",
      "copying Crowd_counting.egg-info\\dependency_links.txt -> Crowd-counting-0.1\\Crowd_counting.egg-info\n",
      "copying Crowd_counting.egg-info\\requires.txt -> Crowd-counting-0.1\\Crowd_counting.egg-info\n",
      "copying Crowd_counting.egg-info\\top_level.txt -> Crowd-counting-0.1\\Crowd_counting.egg-info\n",
      "Writing Crowd-counting-0.1\\setup.cfg\n",
      "creating dist\n",
      "Creating tar archive\n",
      "removing 'Crowd-counting-0.1' (and everything under it)\n"
     ]
    }
   ],
   "source": [
    "!python setup.py sdist"
   ]
  },
  {
   "cell_type": "code",
   "execution_count": 5,
   "metadata": {},
   "outputs": [
    {
     "name": "stdout",
     "output_type": "stream",
     "text": [
      "Collecting crowd_counting\n",
      "  Cloning git://github.com/lrobins1/crowd_counting.git to c:\\users\\louis\\appdata\\local\\temp\\pip-install-tfyxkxtv\\crowd-counting\n"
     ]
    },
    {
     "name": "stderr",
     "output_type": "stream",
     "text": [
      "ERROR: Command errored out with exit status 128: git clone -q git://github.com/lrobins1/crowd_counting.git 'C:\\Users\\Louis\\AppData\\Local\\Temp\\pip-install-tfyxkxtv\\crowd-counting' Check the logs for full command output.\n"
     ]
    }
   ],
   "source": [
    "!pip install git+git://github.com/lrobins1/crowd_counting.git#egg=crowd_counting"
   ]
  },
  {
   "cell_type": "code",
   "execution_count": 6,
   "metadata": {},
   "outputs": [
    {
     "name": "stdout",
     "output_type": "stream",
     "text": [
      "Collecting crowd_counting\n",
      "  Cloning git://github.com/lrobins1/crowd_counting.git to c:\\users\\louis\\appdata\\local\\temp\\pip-install-y35so_lt\\crowd-counting\n",
      "Requirement already satisfied: numpy in c:\\users\\louis\\appdata\\roaming\\python\\python36\\site-packages (from crowd_counting) (1.16.5)\n",
      "Building wheels for collected packages: crowd-counting\n",
      "  Building wheel for crowd-counting (setup.py): started\n",
      "  Building wheel for crowd-counting (setup.py): finished with status 'done'\n",
      "  Created wheel for crowd-counting: filename=Crowd_counting-0.1-py3-none-any.whl size=7495 sha256=19894a6707e5358ce7ac09469671fdfca4fce97311d9d74383741745f0fadba7\n",
      "  Stored in directory: C:\\Users\\Louis\\AppData\\Local\\Temp\\pip-ephem-wheel-cache-7bw3xhph\\wheels\\12\\b9\\41\\ba2875cef3cd07ec96e73b2074692cf4e4cc5762f0de3cebf8\n",
      "Successfully built crowd-counting\n",
      "Installing collected packages: crowd-counting\n",
      "Successfully installed crowd-counting-0.1\n",
      "Note: you may need to restart the kernel to use updated packages.\n"
     ]
    }
   ],
   "source": [
    "pip install git+git://github.com/lrobins1/crowd_counting.git#egg=crowd_counting"
   ]
  },
  {
   "cell_type": "code",
   "execution_count": 12,
   "metadata": {},
   "outputs": [
    {
     "ename": "SyntaxError",
     "evalue": "invalid syntax (<ipython-input-12-79a78865e414>, line 1)",
     "output_type": "error",
     "traceback": [
      "\u001b[1;36m  File \u001b[1;32m\"<ipython-input-12-79a78865e414>\"\u001b[1;36m, line \u001b[1;32m1\u001b[0m\n\u001b[1;33m    import crowd-counting\u001b[0m\n\u001b[1;37m                ^\u001b[0m\n\u001b[1;31mSyntaxError\u001b[0m\u001b[1;31m:\u001b[0m invalid syntax\n"
     ]
    }
   ],
   "source": [
    "import crowd-counting"
   ]
  },
  {
   "cell_type": "code",
   "execution_count": null,
   "metadata": {},
   "outputs": [],
   "source": []
  }
 ],
 "metadata": {
  "kernelspec": {
   "display_name": "Python 3",
   "language": "python",
   "name": "python3"
  },
  "language_info": {
   "codemirror_mode": {
    "name": "ipython",
    "version": 3
   },
   "file_extension": ".py",
   "mimetype": "text/x-python",
   "name": "python",
   "nbconvert_exporter": "python",
   "pygments_lexer": "ipython3",
   "version": "3.6.5"
  }
 },
 "nbformat": 4,
 "nbformat_minor": 4
}
