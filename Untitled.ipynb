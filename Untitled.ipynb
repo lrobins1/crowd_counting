{
 "cells": [
  {
   "cell_type": "code",
   "execution_count": 1,
   "metadata": {},
   "outputs": [
    {
     "name": "stdout",
     "output_type": "stream",
     "text": [
      "running sdist\n",
      "running egg_info\n",
      "writing Crowd_counting.egg-info\\PKG-INFO\n",
      "writing dependency_links to Crowd_counting.egg-info\\dependency_links.txt\n",
      "writing requirements to Crowd_counting.egg-info\\requires.txt\n",
      "writing top-level names to Crowd_counting.egg-info\\top_level.txt\n",
      "reading manifest file 'Crowd_counting.egg-info\\SOURCES.txt'\n",
      "reading manifest template 'MANIFEST.in'\n",
      "writing manifest file 'Crowd_counting.egg-info\\SOURCES.txt'\n",
      "running check\n",
      "creating Crowd_counting-0.6\n",
      "creating Crowd_counting-0.6\\Crowd_counting\n",
      "creating Crowd_counting-0.6\\Crowd_counting.egg-info\n",
      "creating Crowd_counting-0.6\\Crowd_counting\\data\n",
      "copying files to Crowd_counting-0.6...\n",
      "copying MANIFEST.in -> Crowd_counting-0.6\n",
      "copying README.md -> Crowd_counting-0.6\n",
      "copying setup.py -> Crowd_counting-0.6\n",
      "copying Crowd_counting\\__init__.py -> Crowd_counting-0.6\\Crowd_counting\n",
      "copying Crowd_counting\\augmentation.py -> Crowd_counting-0.6\\Crowd_counting\n",
      "copying Crowd_counting\\dataset.py -> Crowd_counting-0.6\\Crowd_counting\n",
      "copying Crowd_counting\\ground_truth.py -> Crowd_counting-0.6\\Crowd_counting\n",
      "copying Crowd_counting\\image.py -> Crowd_counting-0.6\\Crowd_counting\n",
      "copying Crowd_counting\\model.py -> Crowd_counting-0.6\\Crowd_counting\n",
      "copying Crowd_counting\\train.py -> Crowd_counting-0.6\\Crowd_counting\n",
      "copying Crowd_counting\\utils.py -> Crowd_counting-0.6\\Crowd_counting\n",
      "copying Crowd_counting.egg-info\\PKG-INFO -> Crowd_counting-0.6\\Crowd_counting.egg-info\n",
      "copying Crowd_counting.egg-info\\SOURCES.txt -> Crowd_counting-0.6\\Crowd_counting.egg-info\n",
      "copying Crowd_counting.egg-info\\dependency_links.txt -> Crowd_counting-0.6\\Crowd_counting.egg-info\n",
      "copying Crowd_counting.egg-info\\requires.txt -> Crowd_counting-0.6\\Crowd_counting.egg-info\n",
      "copying Crowd_counting.egg-info\\top_level.txt -> Crowd_counting-0.6\\Crowd_counting.egg-info\n",
      "copying Crowd_counting\\data\\PartAmodel_best.pth.tar -> Crowd_counting-0.6\\Crowd_counting\\data\n",
      "Writing Crowd_counting-0.6\\setup.cfg\n",
      "Creating tar archive\n",
      "removing 'Crowd_counting-0.6' (and everything under it)\n"
     ]
    }
   ],
   "source": [
    "!python setup.py sdist"
   ]
  },
  {
   "cell_type": "code",
   "execution_count": 14,
   "metadata": {},
   "outputs": [
    {
     "name": "stdout",
     "output_type": "stream",
     "text": [
      "Collecting git+git://github.com/lrobins1/crowd_counting.git\n",
      "  Cloning git://github.com/lrobins1/crowd_counting.git to c:\\users\\louis\\appdata\\local\\temp\\pip-req-build-b20iypwf\n"
     ]
    },
    {
     "name": "stderr",
     "output_type": "stream",
     "text": [
      "ERROR: Command errored out with exit status 128: git clone -q git://github.com/lrobins1/crowd_counting.git 'C:\\Users\\Louis\\AppData\\Local\\Temp\\pip-req-build-b20iypwf' Check the logs for full command output.\n"
     ]
    }
   ],
   "source": [
    "!pip install git+git://github.com/lrobins1/crowd_counting.git"
   ]
  },
  {
   "cell_type": "code",
   "execution_count": 13,
   "metadata": {},
   "outputs": [
    {
     "name": "stdout",
     "output_type": "stream",
     "text": [
      "Collecting git+git://github.com/lrobins1/crowd_counting.git\n",
      "  Cloning git://github.com/lrobins1/crowd_counting.git to c:\\users\\louis\\appdata\\local\\temp\\pip-req-build-bgzfpw4c\n",
      "Note: you may need to restart the kernel to use updated packages.\n"
     ]
    },
    {
     "name": "stderr",
     "output_type": "stream",
     "text": [
      "ERROR: Command errored out with exit status 128: git clone -q git://github.com/lrobins1/crowd_counting.git 'C:\\Users\\Louis\\AppData\\Local\\Temp\\pip-req-build-bgzfpw4c' Check the logs for full command output.\n"
     ]
    }
   ],
   "source": [
    "pip install git+git://github.com/lrobins1/crowd_counting.git"
   ]
  },
  {
   "cell_type": "code",
   "execution_count": 12,
   "metadata": {},
   "outputs": [
    {
     "ename": "SyntaxError",
     "evalue": "invalid syntax (<ipython-input-12-79a78865e414>, line 1)",
     "output_type": "error",
     "traceback": [
      "\u001b[1;36m  File \u001b[1;32m\"<ipython-input-12-79a78865e414>\"\u001b[1;36m, line \u001b[1;32m1\u001b[0m\n\u001b[1;33m    import crowd-counting\u001b[0m\n\u001b[1;37m                ^\u001b[0m\n\u001b[1;31mSyntaxError\u001b[0m\u001b[1;31m:\u001b[0m invalid syntax\n"
     ]
    }
   ],
   "source": [
    "import crowd-counting"
   ]
  },
  {
   "cell_type": "code",
   "execution_count": null,
   "metadata": {},
   "outputs": [],
   "source": []
  }
 ],
 "metadata": {
  "kernelspec": {
   "display_name": "Python 3",
   "language": "python",
   "name": "python3"
  },
  "language_info": {
   "codemirror_mode": {
    "name": "ipython",
    "version": 3
   },
   "file_extension": ".py",
   "mimetype": "text/x-python",
   "name": "python",
   "nbconvert_exporter": "python",
   "pygments_lexer": "ipython3",
   "version": "3.6.5"
  }
 },
 "nbformat": 4,
 "nbformat_minor": 4
}
