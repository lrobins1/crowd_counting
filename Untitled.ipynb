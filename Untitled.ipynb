{
 "cells": [
  {
   "cell_type": "code",
   "execution_count": 2,
   "metadata": {},
   "outputs": [
    {
     "name": "stdout",
     "output_type": "stream",
     "text": [
      "running sdist\n",
      "running egg_info\n",
      "creating Crowd_counting.egg-info\n",
      "writing Crowd_counting.egg-info\\PKG-INFO\n",
      "writing dependency_links to Crowd_counting.egg-info\\dependency_links.txt\n",
      "writing requirements to Crowd_counting.egg-info\\requires.txt\n",
      "writing top-level names to Crowd_counting.egg-info\\top_level.txt\n",
      "writing manifest file 'Crowd_counting.egg-info\\SOURCES.txt'\n",
      "reading manifest file 'Crowd_counting.egg-info\\SOURCES.txt'\n",
      "writing manifest file 'Crowd_counting.egg-info\\SOURCES.txt'\n",
      "running check\n",
      "creating Crowd-counting-0.1\n",
      "creating Crowd-counting-0.1\\Crowd-counting\n",
      "creating Crowd-counting-0.1\\Crowd_counting.egg-info\n",
      "copying files to Crowd-counting-0.1...\n",
      "copying README.md -> Crowd-counting-0.1\n",
      "copying setup.py -> Crowd-counting-0.1\n",
      "copying Crowd-counting\\__init__.py -> Crowd-counting-0.1\\Crowd-counting\n",
      "copying Crowd-counting\\dataset.py -> Crowd-counting-0.1\\Crowd-counting\n",
      "copying Crowd-counting\\image.py -> Crowd-counting-0.1\\Crowd-counting\n",
      "copying Crowd-counting\\model.py -> Crowd-counting-0.1\\Crowd-counting\n",
      "copying Crowd-counting\\train.py -> Crowd-counting-0.1\\Crowd-counting\n",
      "copying Crowd-counting\\utils.py -> Crowd-counting-0.1\\Crowd-counting\n",
      "copying Crowd_counting.egg-info\\PKG-INFO -> Crowd-counting-0.1\\Crowd_counting.egg-info\n",
      "copying Crowd_counting.egg-info\\SOURCES.txt -> Crowd-counting-0.1\\Crowd_counting.egg-info\n",
      "copying Crowd_counting.egg-info\\dependency_links.txt -> Crowd-counting-0.1\\Crowd_counting.egg-info\n",
      "copying Crowd_counting.egg-info\\requires.txt -> Crowd-counting-0.1\\Crowd_counting.egg-info\n",
      "copying Crowd_counting.egg-info\\top_level.txt -> Crowd-counting-0.1\\Crowd_counting.egg-info\n",
      "Writing Crowd-counting-0.1\\setup.cfg\n",
      "creating dist\n",
      "Creating tar archive\n",
      "removing 'Crowd-counting-0.1' (and everything under it)\n"
     ]
    }
   ],
   "source": [
    "!python setup.py sdist"
   ]
  },
  {
   "cell_type": "code",
   "execution_count": null,
   "metadata": {},
   "outputs": [],
   "source": []
  }
 ],
 "metadata": {
  "kernelspec": {
   "display_name": "Python 3",
   "language": "python",
   "name": "python3"
  },
  "language_info": {
   "codemirror_mode": {
    "name": "ipython",
    "version": 3
   },
   "file_extension": ".py",
   "mimetype": "text/x-python",
   "name": "python",
   "nbconvert_exporter": "python",
   "pygments_lexer": "ipython3",
   "version": "3.6.5"
  }
 },
 "nbformat": 4,
 "nbformat_minor": 4
}
